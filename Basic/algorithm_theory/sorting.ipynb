{
 "cells": [
  {
   "cell_type": "markdown",
   "metadata": {},
   "source": [
    "# 선택 정렬"
   ]
  },
  {
   "cell_type": "markdown",
   "metadata": {},
   "source": [
    "1. 가장 작은 값을 맨 앞 데이터와 바꾼다\n",
    "2. 정렬된 첫번째 데이터 제외하고 1 과정 수행\n",
    "3. 정렬된 k개 데잍어 제외하고 1 과정 수행을 N-1번 반복\n",
    "\n",
    "시간복잡도 : N^2"
   ]
  },
  {
   "cell_type": "code",
   "execution_count": 7,
   "metadata": {},
   "outputs": [
    {
     "name": "stdout",
     "output_type": "stream",
     "text": [
      "before :  [9, 30, 31, 36, 19, 6, 34, 14, 40, 20]\n",
      "after :  [6, 9, 14, 19, 20, 30, 31, 34, 36, 40]\n"
     ]
    }
   ],
   "source": [
    "from random import randint\n",
    "test = []\n",
    "for i in range(10):\n",
    "    test.append(randint(0,40))\n",
    "print(\"before : \",test)\n",
    "\n",
    "for i in range(10):\n",
    "    min_index = i\n",
    "    for j in range(i,10):\n",
    "        if test[min_index]>test[j]:\n",
    "            min_index = j\n",
    "    test[i],test[min_index] = test[min_index],test[i]\n",
    "    \n",
    "print(\"after : \",test)"
   ]
  },
  {
   "cell_type": "markdown",
   "metadata": {},
   "source": [
    "# 삽입 정렬"
   ]
  },
  {
   "cell_type": "markdown",
   "metadata": {},
   "source": [
    "1. 첫 번째 데이터는 정렬된 것으로 간주하고 그대로 둔다.\n",
    "2. 정렬된 1개 데이터와 두번째 데이터를 비교하여 오름차순으로 정렬한다.\n",
    "3. 정렬된 k-1개의 데이터 리스트와 k번째 데이터를 역순으로 비교하면서 k번째 데이터가 더 커지는 순간에 k번째 데이터를 삽입한다.\n",
    "\n",
    "시간복잡도 : N^2(정렬되어 있는 데이터는 N)"
   ]
  },
  {
   "cell_type": "code",
   "execution_count": 15,
   "metadata": {},
   "outputs": [
    {
     "name": "stdout",
     "output_type": "stream",
     "text": [
      "before :  [20, 6, 12, 14, 1, 37, 35, 32, 13, 27]\n",
      "after :  [1, 6, 12, 13, 14, 20, 27, 32, 35, 37]\n"
     ]
    }
   ],
   "source": [
    "from random import randint\n",
    "test = []\n",
    "for i in range(10):\n",
    "    test.append(randint(0,40))\n",
    "print(\"before : \",test)\n",
    "\n",
    "for i in range(1,10):\n",
    "    for j in range(i,0,-1):\n",
    "        if test[j]<test[j-1]:\n",
    "            test[j],test[j-1] = test[j-1],test[j]\n",
    "        else:\n",
    "            break\n",
    "\n",
    "print(\"after : \",test)"
   ]
  },
  {
   "cell_type": "markdown",
   "metadata": {},
   "source": [
    "# 퀵 정렬"
   ]
  },
  {
   "cell_type": "markdown",
   "metadata": {},
   "source": [
    "1. 첫 번째 데이터를 pivot으로 설정\n",
    "2. 왼쪽에서부터 pivot보다 큰 수를, 오른쪽에서부터 pivot보다 작은 수를 차례대로 탐색\n",
    "3. 탐색한 두 수의 자리를 바꾼다. 만약 탐색하는 과정에서 방향이 교차된다면, pivot보다 작은 수를 pivot과 자리를 바꾼다.\n",
    "4. 바뀐 pivot을 기준으로 왼쪽 list와 오른쪽 list에 대해 1~3 과정을 반복한다.\n",
    "\n",
    "시간복잡도 : N*logN"
   ]
  },
  {
   "cell_type": "code",
   "execution_count": 21,
   "metadata": {},
   "outputs": [
    {
     "name": "stdout",
     "output_type": "stream",
     "text": [
      "before :  [17, 10, 7, 34, 21, 27, 21, 19, 15, 29]\n",
      "after :  [7, 10, 15, 17, 19, 21, 21, 27, 29, 34]\n"
     ]
    }
   ],
   "source": [
    "from random import randint\n",
    "test = []\n",
    "for i in range(10):\n",
    "    test.append(randint(0,40))\n",
    "print(\"before : \",test)\n",
    "\n",
    "start = 0\n",
    "end = len(test)-1\n",
    "\n",
    "def quick_sort(test,start,end):\n",
    "    if start>=end:\n",
    "        return\n",
    "    pivot = start\n",
    "    left = start+1\n",
    "    right = end\n",
    "\n",
    "    while left<=right:\n",
    "        while left<=end and test[pivot]>=test[left]: # 앞에 조건문부터 check함\n",
    "            left+=1\n",
    "        while right>start and test[pivot]<=test[right]:\n",
    "            right-=1\n",
    "        if left>right:\n",
    "            test[right],test[pivot] = test[pivot],test[right]\n",
    "        else:\n",
    "            test[right],test[left] = test[left],test[right]\n",
    "\n",
    "    quick_sort(test,start,right-1)\n",
    "    quick_sort(test,right+1,end)\n",
    "\n",
    "quick_sort(test,start,end)\n",
    "print(\"after : \",test)"
   ]
  },
  {
   "cell_type": "code",
   "execution_count": 23,
   "metadata": {},
   "outputs": [
    {
     "name": "stdout",
     "output_type": "stream",
     "text": [
      "before :  [6, 18, 1, 1, 10, 35, 25, 19, 2, 37]\n",
      "after :  [1, 1, 2, 6, 10, 18, 19, 25, 35, 37]\n"
     ]
    }
   ],
   "source": [
    "from random import randint\n",
    "test = []\n",
    "for i in range(10):\n",
    "    test.append(randint(0,40))\n",
    "print(\"before : \",test)\n",
    "\n",
    "start = 0\n",
    "end = len(test)-1\n",
    "\n",
    "def quick_sort_v2(test):\n",
    "    if len(test)<=1:\n",
    "        return test\n",
    "    pivot = test[0]\n",
    "    tail = test[1:]\n",
    "\n",
    "    left = [x for x in tail if x<=pivot]\n",
    "    right = [x for x in tail if x>pivot]\n",
    "\n",
    "    return quick_sort_v2(left) + [pivot] + quick_sort_v2(right)\n",
    "\n",
    "test = quick_sort_v2(test)\n",
    "print(\"after : \",test)"
   ]
  },
  {
   "cell_type": "markdown",
   "metadata": {},
   "source": [
    "# 계수 정렬"
   ]
  },
  {
   "cell_type": "markdown",
   "metadata": {},
   "source": [
    "* 가장 큰 수와 가장 작은 수의 차이가 1,000,000이 넘지 않을 때 사용 가능\n",
    "1. 가장 큰 수+1 크기의 count list를 생성\n",
    "2. 데이터를 차례대로 탐색하며 count list의 해당 index에 1을 더함\n",
    "\n",
    "시간복잡도 : N+K (N:데이터 갯수, K:데이터 최대값)"
   ]
  },
  {
   "cell_type": "code",
   "execution_count": 26,
   "metadata": {},
   "outputs": [
    {
     "name": "stdout",
     "output_type": "stream",
     "text": [
      "before :  [23, 32, 27, 40, 25, 36, 12, 17, 19, 13]\n",
      "after :  [12, 13, 17, 19, 23, 25, 27, 32, 36, 40]\n"
     ]
    }
   ],
   "source": [
    "from random import randint\n",
    "test = []\n",
    "for i in range(10):\n",
    "    test.append(randint(0,40))\n",
    "print(\"before : \",test)\n",
    "\n",
    "count_list = [0]*(max(test)+1)\n",
    "\n",
    "for data in test:\n",
    "    count_list[data] += 1\n",
    "result = []\n",
    "for data,n in enumerate(count_list):\n",
    "    if n == 0:\n",
    "        continue\n",
    "    else:\n",
    "        result += [data]*n\n",
    "\n",
    "print(\"after : \",result)"
   ]
  },
  {
   "cell_type": "code",
   "execution_count": null,
   "metadata": {},
   "outputs": [],
   "source": []
  }
 ],
 "metadata": {
  "kernelspec": {
   "display_name": "Python 3.8.6 64-bit",
   "language": "python",
   "name": "python3"
  },
  "language_info": {
   "codemirror_mode": {
    "name": "ipython",
    "version": 3
   },
   "file_extension": ".py",
   "mimetype": "text/x-python",
   "name": "python",
   "nbconvert_exporter": "python",
   "pygments_lexer": "ipython3",
   "version": "3.8.6"
  },
  "orig_nbformat": 4,
  "vscode": {
   "interpreter": {
    "hash": "4410f3b2d65baa5768f7572e00bd3f92c8cde4189408977fd2f0d4d8fecfc7c1"
   }
  }
 },
 "nbformat": 4,
 "nbformat_minor": 2
}
