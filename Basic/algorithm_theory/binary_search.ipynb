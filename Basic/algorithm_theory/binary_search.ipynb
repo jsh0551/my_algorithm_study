{
 "cells": [
  {
   "cell_type": "markdown",
   "metadata": {},
   "source": [
    "# 이진 탐색"
   ]
  },
  {
   "cell_type": "markdown",
   "metadata": {},
   "source": [
    "정렬된 데이터에 사용 가능\n",
    "1. 시작점,중간점,끝점을 둔다.\n",
    "2. 목표값이 중간점보다 크면 중간점 아랫 부분을 무시하고 윗 부분에 대해 시작점,중간점,끝점을 둔다.\n",
    "3. 목표값이 중간점보다 작으면 중간점 윗 부분을 무시하고 아랫 부분에 대해 시작점,중간점,끝점을 둔다.\n",
    "4. 중간점이 목표값일 경우 중간점을 return, 시작점이 끝점보다 커지면 None return"
   ]
  },
  {
   "cell_type": "code",
   "execution_count": 9,
   "metadata": {},
   "outputs": [
    {
     "name": "stdout",
     "output_type": "stream",
     "text": [
      "target : 9\n",
      "array : [1, 3, 5, 7, 9, 11, 13, 15, 17, 19]\n",
      "target index : 4\n"
     ]
    }
   ],
   "source": [
    "target = 9\n",
    "array = list(range(1,20,2))\n",
    "\n",
    "# 재귀 형태\n",
    "def binary_search(array,target,start,end):\n",
    "    if start>end:\n",
    "        return None\n",
    "    mid = (start+end)//2\n",
    "    if target>array[mid]:\n",
    "        return binary_search(array,target,mid+1,end)\n",
    "    elif target<array[mid]:\n",
    "        return binary_search(array,target,start,mid-1)\n",
    "    elif target==array[mid]:\n",
    "        return mid\n",
    "\n",
    "result = binary_search(array,target,0,len(array)-1)\n",
    "print(f\"target : {target}\")\n",
    "print(f\"array : {array}\")\n",
    "print(f\"target index : {result}\")"
   ]
  },
  {
   "cell_type": "code",
   "execution_count": 14,
   "metadata": {},
   "outputs": [
    {
     "name": "stdout",
     "output_type": "stream",
     "text": [
      "target : 11\n",
      "array : [1, 3, 5, 7, 9, 11, 13, 15, 17, 19]\n",
      "target index : 5\n"
     ]
    }
   ],
   "source": [
    "target = 11\n",
    "array = list(range(1,20,2))\n",
    "\n",
    "# 반복문 형태\n",
    "start = 0\n",
    "end = len(array)-1\n",
    "result = None\n",
    "while start<=end:\n",
    "    mid = (start+end)//2\n",
    "    if target>array[mid]:\n",
    "        start = mid+1\n",
    "    elif target<array[mid]:\n",
    "        end = mid-1\n",
    "    elif target == array[mid]:\n",
    "        result = mid\n",
    "        break\n",
    "\n",
    "print(f\"target : {target}\")\n",
    "print(f\"array : {array}\")\n",
    "print(f\"target index : {result}\")\n"
   ]
  },
  {
   "cell_type": "code",
   "execution_count": null,
   "metadata": {},
   "outputs": [],
   "source": []
  }
 ],
 "metadata": {
  "kernelspec": {
   "display_name": "Python 3.8.6 64-bit",
   "language": "python",
   "name": "python3"
  },
  "language_info": {
   "codemirror_mode": {
    "name": "ipython",
    "version": 3
   },
   "file_extension": ".py",
   "mimetype": "text/x-python",
   "name": "python",
   "nbconvert_exporter": "python",
   "pygments_lexer": "ipython3",
   "version": "3.8.6"
  },
  "orig_nbformat": 4,
  "vscode": {
   "interpreter": {
    "hash": "4410f3b2d65baa5768f7572e00bd3f92c8cde4189408977fd2f0d4d8fecfc7c1"
   }
  }
 },
 "nbformat": 4,
 "nbformat_minor": 2
}
