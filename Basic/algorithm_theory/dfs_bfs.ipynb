{
 "cells": [
  {
   "cell_type": "markdown",
   "metadata": {},
   "source": [
    "## DFS\n",
    "동작과정\n",
    "1. 시작노드 v를 스택에 넣고 방문 처리\n",
    "2. 스택 최상단 노드의 인접 노드 중 not visited 노드 i를 스택에 넣고 방문 처리, 노드 i의 dfs를 재귀적으로 수행\n",
    "3. 2과정 반복"
   ]
  },
  {
   "cell_type": "code",
   "execution_count": 11,
   "metadata": {},
   "outputs": [
    {
     "name": "stdout",
     "output_type": "stream",
     "text": [
      "[]\n",
      "[2, 3, 8]\n",
      "[1, 7]\n",
      "[1, 4, 5]\n",
      "[3, 5]\n",
      "[3, 4]\n",
      "[7]\n",
      "[2, 6, 8]\n",
      "[1, 7]\n",
      "deque([1]) 2 False\n",
      "deque([1, 2]) 1 True\n",
      "deque([1, 2]) 7 False\n",
      "deque([1, 2, 7]) 2 True\n",
      "deque([1, 2, 7]) 6 False\n",
      "deque([1, 2, 7, 6]) 7 True\n",
      "deque([1, 2, 7]) 8 False\n",
      "deque([1, 2, 7, 8]) 1 True\n",
      "deque([1, 2, 7, 8]) 7 True\n",
      "deque([1]) 3 False\n",
      "deque([1, 3]) 1 True\n",
      "deque([1, 3]) 4 False\n",
      "deque([1, 3, 4]) 3 True\n",
      "deque([1, 3, 4]) 5 False\n",
      "deque([1, 3, 4, 5]) 3 True\n",
      "deque([1, 3, 4, 5]) 4 True\n",
      "deque([1, 3]) 5 True\n",
      "deque([1]) 8 True\n"
     ]
    }
   ],
   "source": [
    "from collections import deque\n",
    "\n",
    "def dfs(graph,v,visited,stack):\n",
    "\n",
    "    visited[v] = True\n",
    "    stack.append(v)\n",
    "    for i in graph[v]:\n",
    "        print(stack,i,visited[i])\n",
    "        if not visited[i]:\n",
    "            dfs(graph,i,visited,stack)\n",
    "\n",
    "    stack.pop()\n",
    "\n",
    "\n",
    "\n",
    "visited = [False]*9\n",
    "graph = [\n",
    "    [],\n",
    "    [2,3,8],\n",
    "    [1,7],\n",
    "    [1,4,5],\n",
    "    [3,5],\n",
    "    [3,4],\n",
    "    [7],\n",
    "    [2,6,8],\n",
    "    [1,7]\n",
    "]\n",
    "s = deque()\n",
    "for i in graph : print(i)\n",
    "dfs(graph,1,visited,s)"
   ]
  },
  {
   "cell_type": "markdown",
   "metadata": {},
   "source": [
    "## BFS\n",
    "동작과정\n",
    "1. 시작노드 v를 큐에 넣고 방문 처리\n",
    "2. 큐에서 노드를 꺼내고 인접 노드 중 not visited 노드를 큐에 넣고 방문 처리\n",
    "3. 2과정 반복"
   ]
  },
  {
   "cell_type": "code",
   "execution_count": 22,
   "metadata": {},
   "outputs": [
    {
     "name": "stdout",
     "output_type": "stream",
     "text": [
      "[]\n",
      "[2, 3, 8]\n",
      "[1, 7]\n",
      "[1, 4, 5]\n",
      "[3, 5]\n",
      "[3, 4]\n",
      "[7]\n",
      "[2, 6, 8]\n",
      "[1, 7]\n",
      "deque([2, 3, 8])\n",
      "deque([3, 8, 7])\n",
      "deque([8, 7, 4, 5])\n",
      "deque([7, 4, 5])\n",
      "deque([4, 5, 6])\n",
      "deque([5, 6])\n",
      "deque([6])\n",
      "deque([])\n"
     ]
    }
   ],
   "source": [
    "from collections import deque\n",
    "\n",
    "def bfs(graph,v,visited,queue):\n",
    "\n",
    "    visited[v] = True\n",
    "    queue.append(v)\n",
    "    while queue:\n",
    "        v = queue.popleft()\n",
    "        for i in graph[v]:\n",
    "            if not visited[i]:\n",
    "                queue.append(i)\n",
    "                visited[i] = True\n",
    "        print(queue)\n",
    "\n",
    "visited = [False]*9\n",
    "graph = [\n",
    "    [],\n",
    "    [2,3,8],\n",
    "    [1,7],\n",
    "    [1,4,5],\n",
    "    [3,5],\n",
    "    [3,4],\n",
    "    [7],\n",
    "    [2,6,8],\n",
    "    [1,7]\n",
    "]\n",
    "q = deque()\n",
    "for i in graph : print(i)\n",
    "bfs(graph,1,visited,q)"
   ]
  },
  {
   "cell_type": "code",
   "execution_count": null,
   "metadata": {},
   "outputs": [],
   "source": []
  },
  {
   "cell_type": "code",
   "execution_count": null,
   "metadata": {},
   "outputs": [],
   "source": []
  }
 ],
 "metadata": {
  "interpreter": {
   "hash": "34154ddc7e78ead2d393f7f664158b93fa0ecd3f85f0aa419b99fb04c3762f62"
  },
  "kernelspec": {
   "display_name": "Python 3.9.7 64-bit",
   "language": "python",
   "name": "python3"
  },
  "language_info": {
   "codemirror_mode": {
    "name": "ipython",
    "version": 3
   },
   "file_extension": ".py",
   "mimetype": "text/x-python",
   "name": "python",
   "nbconvert_exporter": "python",
   "pygments_lexer": "ipython3",
   "version": "3.9.7"
  },
  "orig_nbformat": 4
 },
 "nbformat": 4,
 "nbformat_minor": 2
}
